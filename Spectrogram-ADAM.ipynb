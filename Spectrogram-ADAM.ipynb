{
  "nbformat": 4,
  "nbformat_minor": 0,
  "metadata": {
    "accelerator": "GPU",
    "colab": {
      "provenance": [],
      "collapsed_sections": []
    },
    "kernelspec": {
      "display_name": "Python 3",
      "name": "python3"
    }
  },
  "cells": [
    {
      "cell_type": "code",
      "metadata": {
        "colab": {
          "base_uri": "https://localhost:8080/"
        },
        "id": "wgF3lely9XyL",
        "outputId": "ca461e91-ccdc-469e-f2c2-0683dc8f18fb"
      },
      "source": [
        "import tensorflow as tf\n",
        "device_name = tf.test.gpu_device_name()\n",
        "if device_name != '/device:GPU:0':\n",
        "  raise SystemError('GPU device not found')\n",
        "print('Found GPU at: {}'.format(device_name))"
      ],
      "execution_count": null,
      "outputs": [
        {
          "output_type": "stream",
          "text": [
            "Found GPU at: /device:GPU:0\n"
          ],
          "name": "stdout"
        }
      ]
    },
    {
      "cell_type": "code",
      "metadata": {
        "colab": {
          "base_uri": "https://localhost:8080/"
        },
        "id": "wpvYg5duKUzV",
        "outputId": "4719558a-f543-4065-8e22-60a633a60373"
      },
      "source": [
        "from google.colab import drive\n",
        "drive.mount('/content/drive')"
      ],
      "execution_count": null,
      "outputs": [
        {
          "output_type": "stream",
          "text": [
            "Mounted at /content/drive\n"
          ],
          "name": "stdout"
        }
      ]
    },
    {
      "cell_type": "code",
      "metadata": {
        "id": "eoYNhklhuY7-"
      },
      "source": [
        "import numpy as np\n",
        "import matplotlib.pyplot as plt\n",
        "import librosa\n",
        "import cv2 as cvlib\n",
        "from matplotlib.pyplot import imshow\n",
        "import numpy\n",
        "import pylab\n",
        "import wave\n",
        "import array\n",
        "from scipy import signal\n",
        "# from sklearn.model_selection import train_test_split"
      ],
      "execution_count": null,
      "outputs": []
    },
    {
      "cell_type": "code",
      "metadata": {
        "id": "LPJJ72rcvujs"
      },
      "source": [
        "def getSpectrogram(sig, factor):\n",
        "  n_fft = 510 # frame length\n",
        "  hop_length = int(1102 * factor)\n",
        "  stft = librosa.stft(sig.astype('f'), n_fft=n_fft, hop_length=hop_length, )\n",
        "  stft_magnitude, stft_phase = librosa.magphase(stft)\n",
        "  stft_magnitude_db = librosa.amplitude_to_db(stft_magnitude, ref=np.max)\n",
        "\n",
        "  spectrogramimg=cvlib.resize(stft_magnitude_db, dsize=(299, 299), interpolation=cvlib.INTER_CUBIC)\n",
        "\n",
        "  result = np.ones((256, 256))\n",
        "  result[:, 0:201] = stft_magnitude_db\n",
        "  # plt.figure()\n",
        "  # imshow(result, origin='lower')\n",
        "  # print(result[256, 0])\n",
        "  return result"
      ],
      "execution_count": null,
      "outputs": []
    },
    {
      "cell_type": "code",
      "metadata": {
        "id": "ArJ5X6fWk4DK"
      },
      "source": [
        "def getSpectrograms(path, with_resample):\n",
        "  resampling_factors = [1, 0.6, 0.9, 1.1,]\n",
        "  w1 = wave.open(path)\n",
        "  \n",
        "  x1 = numpy.array(array.array('h', w1.readframes(w1.getnframes())))\n",
        "  x1 = x1 / ((2**(16-1))*1.0)  # normalize\n",
        "\n",
        "  result = []\n",
        "\n",
        "  if with_resample:\n",
        "    fs = 220500\n",
        "    resampled_x_list = []\n",
        "    for factor in resampling_factors:\n",
        "      resampled_x = signal.resample(x1, int(factor * fs))\n",
        "      resampled_x_list.append(resampled_x)\n",
        "\n",
        "    for index, resampled_x in enumerate(resampled_x_list):\n",
        "      result.append(getSpectrogram(resampled_x, resampling_factors[index]))\n",
        "\n",
        "  else:\n",
        "    result = [getSpectrogram(x1, 1)]\n",
        "\n",
        "  return result"
      ],
      "execution_count": null,
      "outputs": []
    },
    {
      "cell_type": "code",
      "metadata": {
        "colab": {
          "base_uri": "https://localhost:8080/"
        },
        "id": "QtyTahcsiz3b",
        "outputId": "30773683-1c05-4604-af37-b2e811e22727"
      },
      "source": [
        "import pandas as pd \n",
        "data = pd.read_csv('/content/drive/MyDrive/ESC-50-master/meta/esc50.csv')\n",
        "data = data[['filename', 'target']]\n",
        "X_full = np.empty((6500, 256, 256))\n",
        "for i in range(1500): \n",
        "  if i % 100 == 0: \n",
        "    print(i)\n",
        "  path = '/content/drive/MyDrive/ESC-50-master/audio/' + data['filename'].loc[i] \n",
        "  result = getSpectrograms(path, True) \n",
        "  # print(np.array(result).shape)\n",
        "  X_full[i*4:i*4+4] = np.array(result)\n",
        "\n",
        "for i in range(1500, 2000): \n",
        "  if i % 100 == 0: \n",
        "    print(i)\n",
        "  path = '/content/drive/MyDrive/ESC-50-master/audio/' + data['filename'].loc[i] \n",
        "  result = getSpectrograms(path, False) \n",
        "  X_full[4500 + i] = np.array(result)"
      ],
      "execution_count": null,
      "outputs": [
        {
          "output_type": "stream",
          "text": [
            "0\n",
            "100\n",
            "200\n",
            "300\n",
            "400\n",
            "500\n",
            "600\n",
            "700\n",
            "800\n",
            "900\n",
            "1000\n",
            "1100\n",
            "1200\n",
            "1300\n",
            "1400\n",
            "1500\n",
            "1600\n",
            "1700\n",
            "1800\n",
            "1900\n"
          ],
          "name": "stdout"
        }
      ]
    },
    {
      "cell_type": "code",
      "metadata": {
        "id": "FMsRfgm8i_wU",
        "colab": {
          "base_uri": "https://localhost:8080/"
        },
        "outputId": "a19988dc-1430-419d-b106-ea46b2a9348e"
      },
      "source": [
        "# X_full = pd.DataFrame(X_full)\n",
        "# X_full = np.array(X_full)\n",
        "X_full.shape"
      ],
      "execution_count": null,
      "outputs": [
        {
          "output_type": "execute_result",
          "data": {
            "text/plain": [
              "(6500, 256, 256)"
            ]
          },
          "metadata": {
            "tags": []
          },
          "execution_count": 12
        }
      ]
    },
    {
      "cell_type": "code",
      "metadata": {
        "id": "95fTUNYDoleV"
      },
      "source": [
        "# import numpy as np\n",
        "from keras import layers\n",
        "from keras.layers import Input, Dense, Activation,BatchNormalization, Flatten, Conv2D, MaxPooling2D\n",
        "from keras.models import Model\n",
        "from keras.preprocessing import image\n",
        "from keras.preprocessing.image import ImageDataGenerator\n",
        "import keras.backend as K\n",
        "K.set_image_data_format('channels_last')\n",
        "# import matplotlib.pyplot as plt\n",
        "# from matplotlib.pyplot import imshow"
      ],
      "execution_count": null,
      "outputs": []
    },
    {
      "cell_type": "code",
      "metadata": {
        "id": "CU7YDa9sR2RP"
      },
      "source": [
        "def AlexNet(input_shape):\n",
        "    \n",
        "    X_input = Input(input_shape)\n",
        "    \n",
        "    X = Conv2D(96,(11,11),strides = 4,name=\"conv0\")(X_input)\n",
        "    X = BatchNormalization(axis = 3 , name = \"bn0\")(X)\n",
        "    X = Activation('relu')(X)\n",
        "    \n",
        "    X = MaxPooling2D((3,3),strides = 2,name = 'max0')(X)\n",
        "    \n",
        "    X = Conv2D(256,(5,5),padding = 'same' , name = 'conv1')(X)\n",
        "    X = BatchNormalization(axis = 3 ,name='bn1')(X)\n",
        "    X = Activation('relu')(X)\n",
        "    \n",
        "    X = MaxPooling2D((3,3),strides = 2,name = 'max1')(X)\n",
        "    \n",
        "    X = Conv2D(384, (3,3) , padding = 'same' , name='conv2')(X)\n",
        "    X = BatchNormalization(axis = 3, name = 'bn2')(X)\n",
        "    X = Activation('relu')(X)\n",
        "    \n",
        "    X = Conv2D(384, (3,3) , padding = 'same' , name='conv3')(X)\n",
        "    X = BatchNormalization(axis = 3, name = 'bn3')(X)\n",
        "    X = Activation('relu')(X)\n",
        "    \n",
        "    X = Conv2D(256, (3,3) , padding = 'same' , name='conv4')(X)\n",
        "    X = BatchNormalization(axis = 3, name = 'bn4')(X)\n",
        "    X = Activation('relu')(X)\n",
        "    \n",
        "    X = MaxPooling2D((3,3),strides = 2,name = 'max2')(X)\n",
        "    \n",
        "    X = Flatten()(X)\n",
        "    \n",
        "    X = Dense(4096, activation = 'relu', name = \"fc0\")(X)\n",
        "    \n",
        "    X = Dense(4096, activation = 'relu', name = 'fc1')(X) \n",
        "    \n",
        "    X = Dense(50,activation='softmax',name = 'fc2')(X)\n",
        "    \n",
        "    model = Model(inputs = X_input, outputs = X, name='AlexNet')\n",
        "\n",
        "    model.compile(optimizer = 'adam' , loss = 'sparse_categorical_crossentropy' , metrics=['accuracy'])\n",
        "    return model"
      ],
      "execution_count": null,
      "outputs": []
    },
    {
      "cell_type": "code",
      "metadata": {
        "colab": {
          "base_uri": "https://localhost:8080/"
        },
        "id": "2OOMiK51mdaq",
        "outputId": "8d0fe587-d5f7-4340-906b-37709cb2fc67"
      },
      "source": [
        "Y_full = np.empty((6500,))\n",
        "for i in range(1500):\n",
        "  Y_full[i*4] = data['target'].iloc[i]\n",
        "  Y_full[i*4+1] = data['target'].iloc[i]\n",
        "  Y_full[i*4+2] = data['target'].iloc[i]\n",
        "  Y_full[i*4+3] = data['target'].iloc[i]\n",
        "\n",
        "Y_full[6000:] = data['target'].iloc[1500:]\n",
        "\n",
        "import random\n",
        "indexes = random.sample(range(6000), 6000)\n",
        "X_tr_full = X_full[0:6000]\n",
        "Y_tr_full = Y_full[0:6000]\n",
        "\n",
        "X_ts = X_full[6000:]\n",
        "Y_ts = Y_full[6000:]\n",
        "print(X_tr_full.shape)\n",
        "print(Y_tr_full.shape)\n",
        "print(X_ts.shape)\n",
        "print(Y_ts.shape)"
      ],
      "execution_count": null,
      "outputs": [
        {
          "output_type": "stream",
          "text": [
            "(6000, 256, 256)\n",
            "(6000,)\n",
            "(500, 256, 256)\n",
            "(500,)\n"
          ],
          "name": "stdout"
        }
      ]
    },
    {
      "cell_type": "code",
      "metadata": {
        "colab": {
          "base_uri": "https://localhost:8080/"
        },
        "id": "V_WFdb2qUgEY",
        "outputId": "fde1569b-80f5-4fb2-d63a-671e58ebd5e9"
      },
      "source": [
        "myAlex = AlexNet((256, 256, 1))\n",
        "myAlex.fit(X_tr_full, Y_tr_full, epochs=50)"
      ],
      "execution_count": null,
      "outputs": [
        {
          "output_type": "stream",
          "text": [
            "Epoch 1/50\n",
            "188/188 [==============================] - 29s 116ms/step - loss: 9.1751 - accuracy: 0.0378\n",
            "Epoch 2/50\n",
            "188/188 [==============================] - 21s 113ms/step - loss: 3.1761 - accuracy: 0.1143\n",
            "Epoch 3/50\n",
            "188/188 [==============================] - 21s 113ms/step - loss: 2.8259 - accuracy: 0.1840\n",
            "Epoch 4/50\n",
            "188/188 [==============================] - 21s 113ms/step - loss: 2.3318 - accuracy: 0.2984\n",
            "Epoch 5/50\n",
            "188/188 [==============================] - 21s 113ms/step - loss: 2.0247 - accuracy: 0.3866\n",
            "Epoch 6/50\n",
            "188/188 [==============================] - 21s 113ms/step - loss: 1.6341 - accuracy: 0.4895\n",
            "Epoch 7/50\n",
            "188/188 [==============================] - 21s 112ms/step - loss: 1.3354 - accuracy: 0.5711\n",
            "Epoch 8/50\n",
            "188/188 [==============================] - 21s 113ms/step - loss: 1.1496 - accuracy: 0.6307\n",
            "Epoch 9/50\n",
            "188/188 [==============================] - 21s 112ms/step - loss: 0.9458 - accuracy: 0.6859\n",
            "Epoch 10/50\n",
            "188/188 [==============================] - 21s 112ms/step - loss: 0.7698 - accuracy: 0.7431\n",
            "Epoch 11/50\n",
            "188/188 [==============================] - 21s 112ms/step - loss: 0.6469 - accuracy: 0.7859\n",
            "Epoch 12/50\n",
            "188/188 [==============================] - 21s 112ms/step - loss: 0.5403 - accuracy: 0.8189\n",
            "Epoch 13/50\n",
            "188/188 [==============================] - 21s 112ms/step - loss: 0.4419 - accuracy: 0.8517\n",
            "Epoch 14/50\n",
            "188/188 [==============================] - 21s 112ms/step - loss: 0.3780 - accuracy: 0.8794\n",
            "Epoch 15/50\n",
            "188/188 [==============================] - 21s 112ms/step - loss: 0.3343 - accuracy: 0.8828\n",
            "Epoch 16/50\n",
            "188/188 [==============================] - 21s 112ms/step - loss: 0.2863 - accuracy: 0.8990\n",
            "Epoch 17/50\n",
            "188/188 [==============================] - 21s 112ms/step - loss: 0.2511 - accuracy: 0.9152\n",
            "Epoch 18/50\n",
            "188/188 [==============================] - 21s 112ms/step - loss: 0.2518 - accuracy: 0.9135\n",
            "Epoch 19/50\n",
            "188/188 [==============================] - 21s 112ms/step - loss: 0.2629 - accuracy: 0.9181\n",
            "Epoch 20/50\n",
            "188/188 [==============================] - 21s 112ms/step - loss: 0.1899 - accuracy: 0.9411\n",
            "Epoch 21/50\n",
            "188/188 [==============================] - 21s 112ms/step - loss: 0.2078 - accuracy: 0.9302\n",
            "Epoch 22/50\n",
            "188/188 [==============================] - 21s 112ms/step - loss: 0.1609 - accuracy: 0.9475\n",
            "Epoch 23/50\n",
            "188/188 [==============================] - 21s 112ms/step - loss: 0.1944 - accuracy: 0.9381\n",
            "Epoch 24/50\n",
            "188/188 [==============================] - 21s 112ms/step - loss: 0.1535 - accuracy: 0.9475\n",
            "Epoch 25/50\n",
            "188/188 [==============================] - 21s 112ms/step - loss: 0.2093 - accuracy: 0.9351\n",
            "Epoch 26/50\n",
            "188/188 [==============================] - 21s 112ms/step - loss: 0.1356 - accuracy: 0.9570\n",
            "Epoch 27/50\n",
            "188/188 [==============================] - 21s 113ms/step - loss: 0.1440 - accuracy: 0.9568\n",
            "Epoch 28/50\n",
            "188/188 [==============================] - 21s 112ms/step - loss: 0.1178 - accuracy: 0.9600\n",
            "Epoch 29/50\n",
            "188/188 [==============================] - 21s 112ms/step - loss: 0.1087 - accuracy: 0.9628\n",
            "Epoch 30/50\n",
            "188/188 [==============================] - 21s 113ms/step - loss: 0.0883 - accuracy: 0.9695\n",
            "Epoch 31/50\n",
            "188/188 [==============================] - 21s 112ms/step - loss: 0.1030 - accuracy: 0.9668\n",
            "Epoch 32/50\n",
            "188/188 [==============================] - 21s 112ms/step - loss: 0.1584 - accuracy: 0.9519\n",
            "Epoch 33/50\n",
            "188/188 [==============================] - 21s 112ms/step - loss: 0.1317 - accuracy: 0.9543\n",
            "Epoch 34/50\n",
            "188/188 [==============================] - 21s 112ms/step - loss: 0.1293 - accuracy: 0.9615\n",
            "Epoch 35/50\n",
            "188/188 [==============================] - 21s 112ms/step - loss: 0.0854 - accuracy: 0.9742\n",
            "Epoch 36/50\n",
            "188/188 [==============================] - 21s 112ms/step - loss: 0.0742 - accuracy: 0.9803\n",
            "Epoch 37/50\n",
            "188/188 [==============================] - 21s 112ms/step - loss: 0.0863 - accuracy: 0.9720\n",
            "Epoch 38/50\n",
            " 23/188 [==>...........................] - ETA: 18s - loss: 0.0702 - accuracy: 0.9830"
          ],
          "name": "stdout"
        }
      ]
    },
    {
      "cell_type": "code",
      "metadata": {
        "id": "SRbpdg79qy_W",
        "colab": {
          "base_uri": "https://localhost:8080/"
        },
        "outputId": "8602f0a8-c1eb-47e4-dc09-20ff07991300"
      },
      "source": [
        "myAlex.evaluate(X_ts, Y_ts)"
      ],
      "execution_count": null,
      "outputs": [
        {
          "output_type": "stream",
          "text": [
            "16/16 [==============================] - 0s 17ms/step - loss: 6.0161 - accuracy: 0.3800\n"
          ],
          "name": "stdout"
        },
        {
          "output_type": "execute_result",
          "data": {
            "text/plain": [
              "[6.016087532043457, 0.3799999952316284]"
            ]
          },
          "metadata": {
            "tags": []
          },
          "execution_count": 13
        }
      ]
    },
    {
      "cell_type": "code",
      "metadata": {
        "id": "FR6yOHmLkZ3B"
      },
      "source": [
        "labels=['airplane','breathing','brushing teeth','can opening','car horn',\n",
        "        'cat','chainsaw','chirping birds','church bells','clapping',\n",
        "        'clock alarm','clock tick', 'coughing','cow',\n",
        "        'crackling fire','crickets','crow','crying baby','dog',\n",
        "        'door-wood creaks','door knock','drinking-sipping',\n",
        "        'engine','fireworks','footsteps','frog','glass braking',\n",
        "        'hand saw','helicopter','hen','insects','keyboard typing',\n",
        "        'laughing','mouse click','pig','pouring water',\n",
        "        'rain','rooster','sea waves','sheep','siren','sneezing','snoring','thunderstorm','toilet flush',\n",
        "        'train','vaccum cleaner','washing machine','water drops','wind']"
      ],
      "execution_count": null,
      "outputs": []
    }
  ]
}