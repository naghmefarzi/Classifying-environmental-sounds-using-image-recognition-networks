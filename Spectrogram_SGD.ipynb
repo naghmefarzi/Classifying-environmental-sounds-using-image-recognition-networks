{
  "nbformat": 4,
  "nbformat_minor": 0,
  "metadata": {
    "colab": {
      "provenance": [],
      "collapsed_sections": [],
      "toc_visible": true
    },
    "kernelspec": {
      "name": "python3",
      "display_name": "Python 3"
    },
    "accelerator": "GPU"
  },
  "cells": [
    {
      "cell_type": "code",
      "metadata": {
        "colab": {
          "base_uri": "https://localhost:8080/"
        },
        "id": "wgF3lely9XyL",
        "outputId": "45e10bb7-58c4-4bfd-f22e-779f7df92b13"
      },
      "source": [
        "import tensorflow as tf\n",
        "device_name = tf.test.gpu_device_name()\n",
        "if device_name != '/device:GPU:0':\n",
        "  raise SystemError('GPU device not found')\n",
        "print('Found GPU at: {}'.format(device_name))"
      ],
      "execution_count": null,
      "outputs": [
        {
          "output_type": "stream",
          "text": [
            "Found GPU at: /device:GPU:0\n"
          ],
          "name": "stdout"
        }
      ]
    },
    {
      "cell_type": "code",
      "metadata": {
        "id": "eoYNhklhuY7-"
      },
      "source": [
        "import numpy as np\n",
        "import matplotlib.pyplot as plt\n",
        "import librosa\n",
        "import cv2 as cvlib\n",
        "from matplotlib.pyplot import imshow\n",
        "import numpy\n",
        "import pylab\n",
        "import wave\n",
        "import array\n",
        "from scipy import signal\n",
        "# from sklearn.model_selection import train_test_split"
      ],
      "execution_count": null,
      "outputs": []
    },
    {
      "cell_type": "code",
      "metadata": {
        "id": "LPJJ72rcvujs"
      },
      "source": [
        "def getSpectrogram(sig, factor):\n",
        "  n_fft = 510 # frame length\n",
        "  hop_length = int(1102 * factor)\n",
        "  stft = librosa.stft(sig.astype('f'), n_fft=n_fft, hop_length=hop_length, )\n",
        "  stft_magnitude, stft_phase = librosa.magphase(stft)\n",
        "  stft_magnitude_db = librosa.amplitude_to_db(stft_magnitude, ref=np.max)\n",
        "\n",
        "  spectrogramimg=cvlib.resize(stft_magnitude_db, dsize=(299, 299), interpolation=cvlib.INTER_CUBIC)\n",
        "\n",
        "  result = np.ones((256, 256))\n",
        "  result[:, 0:201] = stft_magnitude_db\n",
        "  # plt.figure()\n",
        "  # imshow(result, origin='lower')\n",
        "  # print(result[256, 0])\n",
        "  return result"
      ],
      "execution_count": null,
      "outputs": []
    },
    {
      "cell_type": "code",
      "metadata": {
        "id": "ArJ5X6fWk4DK"
      },
      "source": [
        "def getSpectrograms(path, with_resample):\n",
        "  resampling_factors = [1, 0.6, 0.9, 1.1,]\n",
        "  w1 = wave.open(path)\n",
        "  \n",
        "  x1 = numpy.array(array.array('h', w1.readframes(w1.getnframes())))\n",
        "  x1 = x1 / ((2**(16-1))*1.0)  # normalize\n",
        "\n",
        "  result = []\n",
        "\n",
        "  if with_resample:\n",
        "    fs = 220500\n",
        "    resampled_x_list = []\n",
        "    for factor in resampling_factors:\n",
        "      resampled_x = signal.resample(x1, int(factor * fs))\n",
        "      resampled_x_list.append(resampled_x)\n",
        "\n",
        "    for index, resampled_x in enumerate(resampled_x_list):\n",
        "      result.append(getSpectrogram(resampled_x, resampling_factors[index]))\n",
        "\n",
        "  else:\n",
        "    result = [getSpectrogram(x1, 1)]\n",
        "\n",
        "  return result"
      ],
      "execution_count": null,
      "outputs": []
    },
    {
      "cell_type": "code",
      "metadata": {
        "colab": {
          "base_uri": "https://localhost:8080/"
        },
        "id": "QtyTahcsiz3b",
        "outputId": "c2605eff-52ca-4961-93cf-bf9ef401d8e5"
      },
      "source": [
        "import pandas as pd \n",
        "data = pd.read_csv('/content/drive/MyDrive/ESC-50-master/meta/esc50.csv')\n",
        "data = data[['filename', 'target']]\n",
        "X_full = np.empty((6500, 256, 256))\n",
        "for i in range(1500): \n",
        "  if i % 100 == 0: \n",
        "    print(i)\n",
        "  path = '/content/drive/MyDrive/ESC-50-master/audio/' + data['filename'].loc[i] \n",
        "  result = getSpectrograms(path, True) \n",
        "  # print(np.array(result).shape)\n",
        "  X_full[i*4:i*4+4] = np.array(result)\n",
        "\n",
        "for i in range(1500, 2000): \n",
        "  if i % 100 == 0: \n",
        "    print(i)\n",
        "  path = '/content/drive/MyDrive/ESC-50-master/audio/' + data['filename'].loc[i] \n",
        "  result = getSpectrograms(path, False) \n",
        "  X_full[4500 + i] = np.array(result)"
      ],
      "execution_count": null,
      "outputs": [
        {
          "output_type": "stream",
          "text": [
            "0\n",
            "100\n",
            "200\n",
            "300\n",
            "400\n",
            "500\n",
            "600\n",
            "700\n",
            "800\n",
            "900\n",
            "1000\n",
            "1100\n",
            "1200\n",
            "1300\n",
            "1400\n",
            "1500\n",
            "1600\n",
            "1700\n",
            "1800\n",
            "1900\n"
          ],
          "name": "stdout"
        }
      ]
    },
    {
      "cell_type": "code",
      "metadata": {
        "id": "FMsRfgm8i_wU",
        "colab": {
          "base_uri": "https://localhost:8080/"
        },
        "outputId": "fd1bdfa0-2975-4af0-d558-a8c1f1928005"
      },
      "source": [
        "# X_full = pd.DataFrame(X_full)\n",
        "# X_full = np.array(X_full)\n",
        "X_full.shape"
      ],
      "execution_count": null,
      "outputs": [
        {
          "output_type": "execute_result",
          "data": {
            "text/plain": [
              "(6500, 256, 256)"
            ]
          },
          "metadata": {
            "tags": []
          },
          "execution_count": 59
        }
      ]
    },
    {
      "cell_type": "code",
      "metadata": {
        "id": "95fTUNYDoleV"
      },
      "source": [
        "# import numpy as np\n",
        "from keras import layers\n",
        "from keras.layers import Input, Dense, Activation,BatchNormalization, Flatten, Conv2D, MaxPooling2D\n",
        "from keras.models import Model\n",
        "from keras.preprocessing import image\n",
        "from keras.preprocessing.image import ImageDataGenerator\n",
        "import keras.backend as K\n",
        "K.set_image_data_format('channels_last')\n",
        "# import matplotlib.pyplot as plt\n",
        "# from matplotlib.pyplot import imshow"
      ],
      "execution_count": null,
      "outputs": []
    },
    {
      "cell_type": "code",
      "metadata": {
        "id": "CU7YDa9sR2RP"
      },
      "source": [
        "def AlexNet(input_shape):\n",
        "    \n",
        "    X_input = Input(input_shape)\n",
        "    \n",
        "    X = Conv2D(96,(11,11),strides = 4,name=\"conv0\")(X_input)\n",
        "    X = BatchNormalization(axis = 3 , name = \"bn0\")(X)\n",
        "    X = Activation('relu')(X)\n",
        "    \n",
        "    X = MaxPooling2D((3,3),strides = 2,name = 'max0')(X)\n",
        "    \n",
        "    X = Conv2D(256,(5,5),padding = 'same' , name = 'conv1')(X)\n",
        "    X = BatchNormalization(axis = 3 ,name='bn1')(X)\n",
        "    X = Activation('relu')(X)\n",
        "    \n",
        "    X = MaxPooling2D((3,3),strides = 2,name = 'max1')(X)\n",
        "    \n",
        "    X = Conv2D(384, (3,3) , padding = 'same' , name='conv2')(X)\n",
        "    X = BatchNormalization(axis = 3, name = 'bn2')(X)\n",
        "    X = Activation('relu')(X)\n",
        "    \n",
        "    X = Conv2D(384, (3,3) , padding = 'same' , name='conv3')(X)\n",
        "    X = BatchNormalization(axis = 3, name = 'bn3')(X)\n",
        "    X = Activation('relu')(X)\n",
        "    \n",
        "    X = Conv2D(256, (3,3) , padding = 'same' , name='conv4')(X)\n",
        "    X = BatchNormalization(axis = 3, name = 'bn4')(X)\n",
        "    X = Activation('relu')(X)\n",
        "    \n",
        "    X = MaxPooling2D((3,3),strides = 2,name = 'max2')(X)\n",
        "    \n",
        "    X = Flatten()(X)\n",
        "    \n",
        "    X = Dense(4096, activation = 'relu', name = \"fc0\")(X)\n",
        "    \n",
        "    X = Dense(4096, activation = 'relu', name = 'fc1')(X) \n",
        "    \n",
        "    X = Dense(50,activation='softmax',name = 'fc2')(X)\n",
        "    \n",
        "    model = Model(inputs = X_input, outputs = X, name='AlexNet')\n",
        "\n",
        "    model.compile(optimizer = 'sgd' , loss = 'sparse_categorical_crossentropy' , metrics=['accuracy'])\n",
        "    return model"
      ],
      "execution_count": null,
      "outputs": []
    },
    {
      "cell_type": "code",
      "metadata": {
        "colab": {
          "base_uri": "https://localhost:8080/"
        },
        "id": "2OOMiK51mdaq",
        "outputId": "375c7e3d-e9b3-4646-c7bf-272da3bb68df"
      },
      "source": [
        "Y_full = np.empty((6500,))\n",
        "for i in range(1500):\n",
        "  Y_full[i*4] = data['target'].iloc[i]\n",
        "  Y_full[i*4+1] = data['target'].iloc[i]\n",
        "  Y_full[i*4+2] = data['target'].iloc[i]\n",
        "  Y_full[i*4+3] = data['target'].iloc[i]\n",
        "\n",
        "Y_full[6000:] = data['target'].iloc[1500:]\n",
        "\n",
        "import random\n",
        "indexes = random.sample(range(6000), 6000)\n",
        "X_tr_full = X_full[0:6000]\n",
        "Y_tr_full = Y_full[0:6000]\n",
        "\n",
        "X_ts = X_full[6000:]\n",
        "Y_ts = Y_full[6000:]\n",
        "print(X_tr_full.shape)\n",
        "print(Y_tr_full.shape)\n",
        "print(X_ts.shape)\n",
        "print(Y_ts.shape)"
      ],
      "execution_count": null,
      "outputs": [
        {
          "output_type": "stream",
          "text": [
            "(6000, 256, 256)\n",
            "(6000,)\n",
            "(500, 256, 256)\n",
            "(500,)\n"
          ],
          "name": "stdout"
        }
      ]
    },
    {
      "cell_type": "code",
      "metadata": {
        "colab": {
          "base_uri": "https://localhost:8080/"
        },
        "id": "V_WFdb2qUgEY",
        "outputId": "1221bb25-69ea-4c18-b581-db7f6a4b4b36"
      },
      "source": [
        "myAlex = AlexNet((256, 256, 1))\n",
        "myAlex.fit(X_tr_full, Y_tr_full, epochs=50)"
      ],
      "execution_count": null,
      "outputs": [
        {
          "output_type": "stream",
          "text": [
            "Epoch 1/50\n",
            "188/188 [==============================] - 17s 47ms/step - loss: 3.7826 - accuracy: 0.1117\n",
            "Epoch 2/50\n",
            "188/188 [==============================] - 9s 47ms/step - loss: 2.0628 - accuracy: 0.3976\n",
            "Epoch 3/50\n",
            "188/188 [==============================] - 9s 46ms/step - loss: 1.3221 - accuracy: 0.5981\n",
            "Epoch 4/50\n",
            "188/188 [==============================] - 9s 46ms/step - loss: 0.8157 - accuracy: 0.7428\n",
            "Epoch 5/50\n",
            "188/188 [==============================] - 8s 45ms/step - loss: 0.5427 - accuracy: 0.8409\n",
            "Epoch 6/50\n",
            "188/188 [==============================] - 8s 45ms/step - loss: 0.3255 - accuracy: 0.9068\n",
            "Epoch 7/50\n",
            "188/188 [==============================] - 8s 45ms/step - loss: 0.1946 - accuracy: 0.9478\n",
            "Epoch 8/50\n",
            "188/188 [==============================] - 8s 45ms/step - loss: 0.1319 - accuracy: 0.9661\n",
            "Epoch 9/50\n",
            "188/188 [==============================] - 8s 45ms/step - loss: 0.1057 - accuracy: 0.9744\n",
            "Epoch 10/50\n",
            "188/188 [==============================] - 8s 45ms/step - loss: 0.0715 - accuracy: 0.9826\n",
            "Epoch 11/50\n",
            "188/188 [==============================] - 9s 45ms/step - loss: 0.0428 - accuracy: 0.9928\n",
            "Epoch 12/50\n",
            "188/188 [==============================] - 9s 46ms/step - loss: 0.0576 - accuracy: 0.9842\n",
            "Epoch 13/50\n",
            "188/188 [==============================] - 9s 46ms/step - loss: 0.0226 - accuracy: 0.9967\n",
            "Epoch 14/50\n",
            "188/188 [==============================] - 9s 45ms/step - loss: 0.0137 - accuracy: 0.9988\n",
            "Epoch 15/50\n",
            "188/188 [==============================] - 9s 45ms/step - loss: 0.0198 - accuracy: 0.9960\n",
            "Epoch 16/50\n",
            "188/188 [==============================] - 8s 45ms/step - loss: 0.0084 - accuracy: 0.9997\n",
            "Epoch 17/50\n",
            "188/188 [==============================] - 8s 45ms/step - loss: 0.0082 - accuracy: 0.9994\n",
            "Epoch 18/50\n",
            "188/188 [==============================] - 8s 45ms/step - loss: 0.0110 - accuracy: 0.9987\n",
            "Epoch 19/50\n",
            "188/188 [==============================] - 8s 45ms/step - loss: 0.0054 - accuracy: 1.0000\n",
            "Epoch 20/50\n",
            "188/188 [==============================] - 9s 45ms/step - loss: 0.0049 - accuracy: 1.0000\n",
            "Epoch 21/50\n",
            "188/188 [==============================] - 9s 45ms/step - loss: 0.0037 - accuracy: 1.0000\n",
            "Epoch 22/50\n",
            "188/188 [==============================] - 8s 45ms/step - loss: 0.0033 - accuracy: 1.0000\n",
            "Epoch 23/50\n",
            "188/188 [==============================] - 9s 45ms/step - loss: 0.0042 - accuracy: 0.9994\n",
            "Epoch 24/50\n",
            "188/188 [==============================] - 9s 45ms/step - loss: 0.0031 - accuracy: 1.0000\n",
            "Epoch 25/50\n",
            "188/188 [==============================] - 9s 45ms/step - loss: 0.0032 - accuracy: 1.0000\n",
            "Epoch 26/50\n",
            "188/188 [==============================] - 9s 45ms/step - loss: 0.0028 - accuracy: 1.0000\n",
            "Epoch 27/50\n",
            "188/188 [==============================] - 9s 45ms/step - loss: 0.0023 - accuracy: 1.0000\n",
            "Epoch 28/50\n",
            "188/188 [==============================] - 9s 45ms/step - loss: 0.0051 - accuracy: 0.9995\n",
            "Epoch 29/50\n",
            "188/188 [==============================] - 9s 45ms/step - loss: 0.0027 - accuracy: 1.0000\n",
            "Epoch 30/50\n",
            "188/188 [==============================] - 9s 45ms/step - loss: 0.0030 - accuracy: 1.0000\n",
            "Epoch 31/50\n",
            "188/188 [==============================] - 9s 45ms/step - loss: 0.0034 - accuracy: 0.9993\n",
            "Epoch 32/50\n",
            "188/188 [==============================] - 9s 45ms/step - loss: 0.0017 - accuracy: 1.0000\n",
            "Epoch 33/50\n",
            "188/188 [==============================] - 9s 45ms/step - loss: 0.0017 - accuracy: 1.0000\n",
            "Epoch 34/50\n",
            "188/188 [==============================] - 8s 45ms/step - loss: 0.0017 - accuracy: 1.0000\n",
            "Epoch 35/50\n",
            "188/188 [==============================] - 9s 45ms/step - loss: 0.0016 - accuracy: 1.0000\n",
            "Epoch 36/50\n",
            "188/188 [==============================] - 9s 45ms/step - loss: 0.0015 - accuracy: 1.0000\n",
            "Epoch 37/50\n",
            "188/188 [==============================] - 9s 45ms/step - loss: 0.0016 - accuracy: 1.0000\n",
            "Epoch 38/50\n",
            "188/188 [==============================] - 9s 45ms/step - loss: 0.1327 - accuracy: 0.9710\n",
            "Epoch 39/50\n",
            "188/188 [==============================] - 8s 45ms/step - loss: 0.0048 - accuracy: 1.0000\n",
            "Epoch 40/50\n",
            "188/188 [==============================] - 9s 45ms/step - loss: 0.0031 - accuracy: 1.0000\n",
            "Epoch 41/50\n",
            "188/188 [==============================] - 8s 45ms/step - loss: 0.0022 - accuracy: 1.0000\n",
            "Epoch 42/50\n",
            "188/188 [==============================] - 8s 45ms/step - loss: 0.0023 - accuracy: 1.0000\n",
            "Epoch 43/50\n",
            "188/188 [==============================] - 8s 45ms/step - loss: 0.0016 - accuracy: 1.0000\n",
            "Epoch 44/50\n",
            "188/188 [==============================] - 9s 45ms/step - loss: 0.0016 - accuracy: 1.0000\n",
            "Epoch 45/50\n",
            "188/188 [==============================] - 9s 45ms/step - loss: 0.0018 - accuracy: 1.0000\n",
            "Epoch 46/50\n",
            "188/188 [==============================] - 9s 45ms/step - loss: 0.0015 - accuracy: 1.0000\n",
            "Epoch 47/50\n",
            "188/188 [==============================] - 9s 45ms/step - loss: 0.0015 - accuracy: 1.0000\n",
            "Epoch 48/50\n",
            "188/188 [==============================] - 9s 45ms/step - loss: 0.0014 - accuracy: 1.0000\n",
            "Epoch 49/50\n",
            "188/188 [==============================] - 9s 45ms/step - loss: 0.0012 - accuracy: 1.0000\n",
            "Epoch 50/50\n",
            "188/188 [==============================] - 9s 45ms/step - loss: 0.0011 - accuracy: 1.0000\n"
          ],
          "name": "stdout"
        },
        {
          "output_type": "execute_result",
          "data": {
            "text/plain": [
              "<tensorflow.python.keras.callbacks.History at 0x7f8cf2092f60>"
            ]
          },
          "metadata": {
            "tags": []
          },
          "execution_count": 14
        }
      ]
    },
    {
      "cell_type": "code",
      "metadata": {
        "id": "SRbpdg79qy_W",
        "colab": {
          "base_uri": "https://localhost:8080/"
        },
        "outputId": "6d6503c3-ccd0-4853-bbb8-d5cc8660af7b"
      },
      "source": [
        "myAlex.evaluate(X_ts, Y_ts)"
      ],
      "execution_count": null,
      "outputs": [
        {
          "output_type": "stream",
          "text": [
            "16/16 [==============================] - 1s 24ms/step - loss: 2.0566 - accuracy: 0.5500\n"
          ],
          "name": "stdout"
        },
        {
          "output_type": "execute_result",
          "data": {
            "text/plain": [
              "[2.0566024780273438, 0.550000011920929]"
            ]
          },
          "metadata": {
            "tags": []
          },
          "execution_count": 15
        }
      ]
    },
    {
      "cell_type": "code",
      "metadata": {
        "colab": {
          "base_uri": "https://localhost:8080/"
        },
        "id": "Acx8v36DzSlr",
        "outputId": "3443baab-1b59-4848-d197-61a0bf766a0d"
      },
      "source": [
        "myAlex = AlexNet((256, 256, 1))\n",
        "history = myAlex.fit(X_tr_full, Y_tr_full, epochs=15)"
      ],
      "execution_count": null,
      "outputs": [
        {
          "output_type": "stream",
          "text": [
            "Epoch 1/15\n",
            "188/188 [==============================] - 13s 63ms/step - loss: 3.7559 - accuracy: 0.1173\n",
            "Epoch 2/15\n",
            "188/188 [==============================] - 12s 63ms/step - loss: 1.9980 - accuracy: 0.4140\n",
            "Epoch 3/15\n",
            "188/188 [==============================] - 12s 62ms/step - loss: 1.2891 - accuracy: 0.6135\n",
            "Epoch 4/15\n",
            "188/188 [==============================] - 12s 63ms/step - loss: 0.7681 - accuracy: 0.7650\n",
            "Epoch 5/15\n",
            "188/188 [==============================] - 12s 62ms/step - loss: 0.4706 - accuracy: 0.8569\n",
            "Epoch 6/15\n",
            "188/188 [==============================] - 12s 63ms/step - loss: 0.3060 - accuracy: 0.9119\n",
            "Epoch 7/15\n",
            "188/188 [==============================] - 12s 63ms/step - loss: 0.1785 - accuracy: 0.9523\n",
            "Epoch 8/15\n",
            "188/188 [==============================] - 12s 63ms/step - loss: 0.1294 - accuracy: 0.9665\n",
            "Epoch 9/15\n",
            "188/188 [==============================] - 12s 63ms/step - loss: 0.0849 - accuracy: 0.9790\n",
            "Epoch 10/15\n",
            "188/188 [==============================] - 12s 63ms/step - loss: 0.0616 - accuracy: 0.9867\n",
            "Epoch 11/15\n",
            "188/188 [==============================] - 12s 64ms/step - loss: 0.0813 - accuracy: 0.9797\n",
            "Epoch 12/15\n",
            "188/188 [==============================] - 12s 64ms/step - loss: 0.0653 - accuracy: 0.9866\n",
            "Epoch 13/15\n",
            "188/188 [==============================] - 12s 64ms/step - loss: 0.0283 - accuracy: 0.9942\n",
            "Epoch 14/15\n",
            "188/188 [==============================] - 12s 64ms/step - loss: 0.0231 - accuracy: 0.9946\n",
            "Epoch 15/15\n",
            "137/188 [====================>.........] - ETA: 3s - loss: 0.0312 - accuracy: 0.9949"
          ],
          "name": "stdout"
        }
      ]
    },
    {
      "cell_type": "code",
      "metadata": {
        "id": "FR6yOHmLkZ3B",
        "colab": {
          "base_uri": "https://localhost:8080/"
        },
        "outputId": "bba9d61d-a13f-4602-b34e-24833329c1d3"
      },
      "source": [
        "myAlex.evaluate(X_ts, Y_ts)"
      ],
      "execution_count": null,
      "outputs": [
        {
          "output_type": "stream",
          "text": [
            "16/16 [==============================] - 1s 31ms/step - loss: 2.2083 - accuracy: 0.5280\n"
          ],
          "name": "stdout"
        },
        {
          "output_type": "execute_result",
          "data": {
            "text/plain": [
              "[2.208284378051758, 0.527999997138977]"
            ]
          },
          "metadata": {
            "tags": []
          },
          "execution_count": 11
        }
      ]
    },
    {
      "cell_type": "code",
      "metadata": {
        "id": "pi65yJXu8gYA"
      },
      "source": [
        "import pandas as pd\n",
        "# import numpy as np\n",
        "from sklearn.metrics import confusion_matrix\n",
        "import seaborn as sns\n",
        "# import matplotlib.pyplot as plt\n",
        "\n",
        "def plot_loss(history):\n",
        "  history_df = pd.DataFrame(history.history)\n",
        "  history_df.plot(figsize=(8, 6))\n",
        "  return\n",
        "\n",
        "def plot_heat_map(y_test, y_pred, label_list):\n",
        "  conf_matrix = confusion_matrix(y_test, y_pred.argmax(axis=1))\n",
        "  conf_matrix = pd.DataFrame(conf_matrix, index=label_list, columns=label_list)\n",
        "  # conf_mat_normalized = conf_matrix.astype('float') / conf_matrix.sum(axis=1)[:, np.newaxis]\n",
        "  plt.figure(figsize = (20,15))\n",
        "  plt.title('Spectrogram SGD')\n",
        "  sns.heatmap(conf_matrix, annot=True, fmt=\"d\", cmap='Blues', )\n",
        "  plt.savefig('res_spec_SGD.png')\n",
        "  plt.figure(figsize = (60,50))\n",
        "  plt.title('Spectrogram SGD(%)')\n",
        "  sns.heatmap(conf_matrix/np.sum(conf_matrix, axis=0), annot=True, fmt='.2%', cmap='Blues')\n",
        "  plt.savefig('res_percentage_spec_SGD.png')\n",
        "  # plt.ylabel('True label')\n",
        "  # plt.xlabel('Predicted label')\n",
        "  return"
      ],
      "execution_count": null,
      "outputs": []
    },
    {
      "cell_type": "code",
      "metadata": {
        "colab": {
          "base_uri": "https://localhost:8080/",
          "height": 752
        },
        "id": "CrODuaoA8nXg",
        "outputId": "03952a29-6f28-4d69-bb21-10c61c29bb6e"
      },
      "source": [
        "plot_loss(history)\n",
        "\n",
        "labels=['dog', 'rooster', 'pig', 'cow', 'frog', 'cat', 'hen', 'insects', 'sheep',\n",
        "        'crow', 'rain', 'sea_waves', 'crackling_fire', 'crickets', \n",
        "        'chirping_birds', 'water_drops', 'wind', 'pouring_water',\n",
        "        'toilet_flush', 'thunderstorm', 'crying_baby', 'sneezing', 'clapping',\n",
        "        'breathing', 'coughing', 'footsteps', 'laughing', 'brushing_teeth',\n",
        "        'snoring', 'drinking_sipping', 'door_wood_knock', 'mouse_click',\n",
        "        'keyboard_typing', 'door_wood_creaks', 'can_opening', 'washing_machine',\n",
        "        'vacuum_cleaner', 'clock_alarm', 'clock_tick', 'glass_breaking',\n",
        "        'helicopter', 'chainsaw', 'siren', 'car_horn', 'engine', 'train',\n",
        "        'church_bells', 'airplane', 'fireworks', 'hand_saw']\n",
        "plot_heat_map(Y_ts, myAlex.predict(X_ts), labels)"
      ],
      "execution_count": null,
      "outputs": [
        {
          "output_type": "stream",
          "text": [
            "/usr/local/lib/python3.6/dist-packages/sklearn/metrics/_classification.py:276: FutureWarning: elementwise comparison failed; returning scalar instead, but in the future will perform elementwise comparison\n",
            "  if np.all([l not in y_true for l in labels]):\n"
          ],
          "name": "stderr"
        },
        {
          "output_type": "error",
          "ename": "ValueError",
          "evalue": "ignored",
          "traceback": [
            "\u001b[0;31m---------------------------------------------------------------------------\u001b[0m",
            "\u001b[0;31mValueError\u001b[0m                                Traceback (most recent call last)",
            "\u001b[0;32m<ipython-input-39-6e731f3d2024>\u001b[0m in \u001b[0;36m<module>\u001b[0;34m()\u001b[0m\n\u001b[1;32m      1\u001b[0m \u001b[0mplot_loss\u001b[0m\u001b[0;34m(\u001b[0m\u001b[0mhistory\u001b[0m\u001b[0;34m)\u001b[0m\u001b[0;34m\u001b[0m\u001b[0;34m\u001b[0m\u001b[0m\n\u001b[0;32m----> 2\u001b[0;31m \u001b[0mplot_heat_map\u001b[0m\u001b[0;34m(\u001b[0m\u001b[0mY_ts\u001b[0m\u001b[0;34m,\u001b[0m \u001b[0mmyAlex\u001b[0m\u001b[0;34m.\u001b[0m\u001b[0mpredict\u001b[0m\u001b[0;34m(\u001b[0m\u001b[0mX_ts\u001b[0m\u001b[0;34m)\u001b[0m\u001b[0;34m)\u001b[0m\u001b[0;34m\u001b[0m\u001b[0;34m\u001b[0m\u001b[0m\n\u001b[0m",
            "\u001b[0;32m<ipython-input-38-8da50ae23fb2>\u001b[0m in \u001b[0;36mplot_heat_map\u001b[0;34m(y_test, y_pred)\u001b[0m\n\u001b[1;32m     22\u001b[0m \u001b[0;34m\u001b[0m\u001b[0m\n\u001b[1;32m     23\u001b[0m \u001b[0;32mdef\u001b[0m \u001b[0mplot_heat_map\u001b[0m\u001b[0;34m(\u001b[0m\u001b[0my_test\u001b[0m\u001b[0;34m,\u001b[0m \u001b[0my_pred\u001b[0m\u001b[0;34m)\u001b[0m\u001b[0;34m:\u001b[0m\u001b[0;34m\u001b[0m\u001b[0;34m\u001b[0m\u001b[0m\n\u001b[0;32m---> 24\u001b[0;31m   \u001b[0mconf_matrix\u001b[0m \u001b[0;34m=\u001b[0m \u001b[0mconfusion_matrix\u001b[0m\u001b[0;34m(\u001b[0m\u001b[0my_test\u001b[0m\u001b[0;34m,\u001b[0m \u001b[0my_pred\u001b[0m\u001b[0;34m.\u001b[0m\u001b[0margmax\u001b[0m\u001b[0;34m(\u001b[0m\u001b[0maxis\u001b[0m\u001b[0;34m=\u001b[0m\u001b[0;36m1\u001b[0m\u001b[0;34m)\u001b[0m\u001b[0;34m,\u001b[0m \u001b[0mlabels\u001b[0m\u001b[0;34m=\u001b[0m\u001b[0mlabels\u001b[0m\u001b[0;34m,\u001b[0m \u001b[0msample_weight\u001b[0m\u001b[0;34m=\u001b[0m\u001b[0mlabels\u001b[0m\u001b[0;34m)\u001b[0m\u001b[0;34m\u001b[0m\u001b[0;34m\u001b[0m\u001b[0m\n\u001b[0m\u001b[1;32m     25\u001b[0m   \u001b[0;31m# conf_mat_normalized = conf_matrix.astype('float') / conf_matrix.sum(axis=1)[:, np.newaxis]\u001b[0m\u001b[0;34m\u001b[0m\u001b[0;34m\u001b[0m\u001b[0;34m\u001b[0m\u001b[0m\n\u001b[1;32m     26\u001b[0m   \u001b[0mplt\u001b[0m\u001b[0;34m.\u001b[0m\u001b[0mfigure\u001b[0m\u001b[0;34m(\u001b[0m\u001b[0mfigsize\u001b[0m \u001b[0;34m=\u001b[0m \u001b[0;34m(\u001b[0m\u001b[0;36m20\u001b[0m\u001b[0;34m,\u001b[0m\u001b[0;36m15\u001b[0m\u001b[0;34m)\u001b[0m\u001b[0;34m)\u001b[0m\u001b[0;34m\u001b[0m\u001b[0;34m\u001b[0m\u001b[0m\n",
            "\u001b[0;32m/usr/local/lib/python3.6/dist-packages/sklearn/metrics/_classification.py\u001b[0m in \u001b[0;36mconfusion_matrix\u001b[0;34m(y_true, y_pred, labels, sample_weight, normalize)\u001b[0m\n\u001b[1;32m    275\u001b[0m         \u001b[0mlabels\u001b[0m \u001b[0;34m=\u001b[0m \u001b[0mnp\u001b[0m\u001b[0;34m.\u001b[0m\u001b[0masarray\u001b[0m\u001b[0;34m(\u001b[0m\u001b[0mlabels\u001b[0m\u001b[0;34m)\u001b[0m\u001b[0;34m\u001b[0m\u001b[0;34m\u001b[0m\u001b[0m\n\u001b[1;32m    276\u001b[0m         \u001b[0;32mif\u001b[0m \u001b[0mnp\u001b[0m\u001b[0;34m.\u001b[0m\u001b[0mall\u001b[0m\u001b[0;34m(\u001b[0m\u001b[0;34m[\u001b[0m\u001b[0ml\u001b[0m \u001b[0;32mnot\u001b[0m \u001b[0;32min\u001b[0m \u001b[0my_true\u001b[0m \u001b[0;32mfor\u001b[0m \u001b[0ml\u001b[0m \u001b[0;32min\u001b[0m \u001b[0mlabels\u001b[0m\u001b[0;34m]\u001b[0m\u001b[0;34m)\u001b[0m\u001b[0;34m:\u001b[0m\u001b[0;34m\u001b[0m\u001b[0;34m\u001b[0m\u001b[0m\n\u001b[0;32m--> 277\u001b[0;31m             \u001b[0;32mraise\u001b[0m \u001b[0mValueError\u001b[0m\u001b[0;34m(\u001b[0m\u001b[0;34m\"At least one label specified must be in y_true\"\u001b[0m\u001b[0;34m)\u001b[0m\u001b[0;34m\u001b[0m\u001b[0;34m\u001b[0m\u001b[0m\n\u001b[0m\u001b[1;32m    278\u001b[0m \u001b[0;34m\u001b[0m\u001b[0m\n\u001b[1;32m    279\u001b[0m     \u001b[0;32mif\u001b[0m \u001b[0msample_weight\u001b[0m \u001b[0;32mis\u001b[0m \u001b[0;32mNone\u001b[0m\u001b[0;34m:\u001b[0m\u001b[0;34m\u001b[0m\u001b[0;34m\u001b[0m\u001b[0m\n",
            "\u001b[0;31mValueError\u001b[0m: At least one label specified must be in y_true"
          ]
        },
        {
          "output_type": "display_data",
          "data": {
            "image/png": "[encoded data removed]",
            "text/plain": [
              "<Figure size 576x432 with 1 Axes>"
            ]
          },
          "metadata": {
            "tags": [],
            "needs_background": "light"
          }
        }
      ]
    }
  ]
}